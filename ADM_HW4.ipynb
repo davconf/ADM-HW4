{
  "cells": [
    {
      "cell_type": "markdown",
      "metadata": {
        "id": "OQKyrdsFcWPa"
      },
      "source": [
        "# 1. Recommendation System with LSH"
      ]
    },
    {
      "cell_type": "markdown",
      "metadata": {
        "id": "DnLAA5gQceVI"
      },
      "source": [
        "In this section, you will implement a recommendation system by identifying users with similar preferences and suggesting movies based on their behavior. Specifically, you will implement your version of the [LSH algorithm](https://www.learndatasci.com/tutorials/building-recommendation-engine-locality-sensitive-hashing-lsh-python/)"
      ]
    },
    {
      "cell_type": "markdown",
      "metadata": {
        "id": "s63gpwwact9q"
      },
      "source": [
        "## 1.1 Data Preparation"
      ]
    },
    {
      "cell_type": "markdown",
      "metadata": {
        "id": "3LSLbseilYSw"
      },
      "source": [
        "### 1.1.1 Download the dataset"
      ]
    },
    {
      "cell_type": "markdown",
      "metadata": {
        "id": "nVPazJcvcwqx"
      },
      "source": [
        "Download the MovieLens dataset from [here](https://www.kaggle.com/datasets/grouplens/movielens-20m-dataset?select=rating.csv)."
      ]
    },
    {
      "cell_type": "code",
      "execution_count": null,
      "metadata": {
        "colab": {
          "base_uri": "https://localhost:8080/"
        },
        "id": "8s7vP1aIfEwL",
        "outputId": "2b6cf5bc-701e-4aea-d9cd-42ea7af5ef40"
      },
      "outputs": [
        {
          "name": "stdout",
          "output_type": "stream",
          "text": [
            "Requirement already satisfied: kaggle in /usr/local/lib/python3.10/dist-packages (1.6.17)\n",
            "Requirement already satisfied: six>=1.10 in /usr/local/lib/python3.10/dist-packages (from kaggle) (1.17.0)\n",
            "Requirement already satisfied: certifi>=2023.7.22 in /usr/local/lib/python3.10/dist-packages (from kaggle) (2024.8.30)\n",
            "Requirement already satisfied: python-dateutil in /usr/local/lib/python3.10/dist-packages (from kaggle) (2.8.2)\n",
            "Requirement already satisfied: requests in /usr/local/lib/python3.10/dist-packages (from kaggle) (2.32.3)\n",
            "Requirement already satisfied: tqdm in /usr/local/lib/python3.10/dist-packages (from kaggle) (4.66.6)\n",
            "Requirement already satisfied: python-slugify in /usr/local/lib/python3.10/dist-packages (from kaggle) (8.0.4)\n",
            "Requirement already satisfied: urllib3 in /usr/local/lib/python3.10/dist-packages (from kaggle) (2.2.3)\n",
            "Requirement already satisfied: bleach in /usr/local/lib/python3.10/dist-packages (from kaggle) (6.2.0)\n",
            "Requirement already satisfied: webencodings in /usr/local/lib/python3.10/dist-packages (from bleach->kaggle) (0.5.1)\n",
            "Requirement already satisfied: text-unidecode>=1.3 in /usr/local/lib/python3.10/dist-packages (from python-slugify->kaggle) (1.3)\n",
            "Requirement already satisfied: charset-normalizer<4,>=2 in /usr/local/lib/python3.10/dist-packages (from requests->kaggle) (3.4.0)\n",
            "Requirement already satisfied: idna<4,>=2.5 in /usr/local/lib/python3.10/dist-packages (from requests->kaggle) (3.10)\n"
          ]
        }
      ],
      "source": [
        "!pip install kaggle"
      ]
    },
    {
      "cell_type": "code",
      "execution_count": null,
      "metadata": {
        "colab": {
          "base_uri": "https://localhost:8080/"
        },
        "id": "eRgIsMIIjGWG",
        "outputId": "40fcfd72-0052-4d53-d73a-aa80de966de6"
      },
      "outputs": [
        {
          "name": "stdout",
          "output_type": "stream",
          "text": [
            "Dataset URL: https://www.kaggle.com/datasets/grouplens/movielens-20m-dataset\n",
            "License(s): unknown\n",
            "movielens-20m-dataset.zip: Skipping, found more recently modified local copy (use --force to force download)\n"
          ]
        }
      ],
      "source": [
        "!kaggle datasets download grouplens/movielens-20m-dataset"
      ]
    },
    {
      "cell_type": "code",
      "execution_count": null,
      "metadata": {
        "id": "_9NXo2X9jSm9"
      },
      "outputs": [],
      "source": [
        "import zipfile\n",
        "\n",
        "# Unzip the file\n",
        "zipfile_path = 'movielens-20m-dataset.zip'\n",
        "with zipfile.ZipFile(zipfile_path, 'r') as zip:\n",
        "    zip.extractall('.')  # Extract files to the current directory"
      ]
    },
    {
      "cell_type": "markdown",
      "metadata": {
        "id": "rWP71D-4lyWU"
      },
      "source": [
        "### 1.1.2 EDA"
      ]
    },
    {
      "cell_type": "markdown",
      "metadata": {
        "id": "qeM_76GVl8Ud"
      },
      "source": [
        "After downloading, explore the dataset to understand the structure and identify any preprocessing steps needed."
      ]
    },
    {
      "cell_type": "markdown",
      "metadata": {
        "id": "9JV8IuOamFZV"
      },
      "source": [
        "**About Dataset**\n",
        "\n",
        "The datasets describe ratings and free-text tagging activities from MovieLens, a movie recommendation service. It contains 20.000.263 ratings and 465.564 tag applications across 27.278 movies. These data were created by 138.493 users between January 09, 1995 and March 31, 2015. This dataset was generated on October 17, 2016.\n",
        "\n",
        "Users were selected at random for inclusion. All selected users had rated at least 20 movies.\n",
        "\n",
        "**Content**\n",
        "\n",
        "No demographic information is included. Each user is represented by an id, and no other information is provided.\n",
        "\n",
        "The data are contained in six files:\n",
        "\n",
        "Each file is then imported in a Pandas DataFrame.\n",
        "\n"
      ]
    },
    {
      "cell_type": "code",
      "execution_count": null,
      "metadata": {
        "id": "fM0cXjkhlFqj"
      },
      "outputs": [],
      "source": [
        "import pandas as pd\n",
        "\n",
        "# One Pandas DataFrame for each .csv\n",
        "genome_scores = pd.read_csv('genome_scores.csv')\n",
        "genome_tags = pd.read_csv('genome_tags.csv')\n",
        "links = pd.read_csv('link.csv')\n",
        "movies = pd.read_csv('movie.csv')\n",
        "ratings = pd.read_csv('rating.csv')\n",
        "tags = pd.read_csv('tag.csv')"
      ]
    },
    {
      "cell_type": "markdown",
      "metadata": {
        "id": "qXGIe5sdtCCx"
      },
      "source": [
        "These six dataframes (*movie*, *rating*, *tag*, *link*, *genome_scores* and *genome_tags*) represent different information related to movies, users, and their interactions."
      ]
    },
    {
      "cell_type": "markdown",
      "metadata": {
        "id": "ULKLKFuDt90z"
      },
      "source": [
        "We can proceed with an initial exploration of the six dataframes."
      ]
    },
    {
      "cell_type": "markdown",
      "metadata": {
        "id": "elbkjWY8mDXm"
      },
      "source": [
        "#### Dataframe: **movies**"
      ]
    },
    {
      "cell_type": "markdown",
      "metadata": {
        "id": "f0Fk4A9_nz21"
      },
      "source": [
        "The *movies* dataframe provides essential information about the movies in our dataset. Here's a breakdown:\n",
        "\n",
        "* **movieId**: A unique numerical ID for each movie. This is the primary key for identifying movies across different tables.\n",
        "* **title**: The title of the movie. Originally, it included the release year in parentheses, but we've cleaned it up during preprocessing to contain only the title.\n",
        "* **genres**: A list of genres associated with the movie. Initially, this was a pipe-separated string, but we've converted it into a list of individual genre strings for easier analysis.\n",
        "\n",
        "We've also added a **year** column during preprocessing by extracting the year from the original **title**."
      ]
    },
    {
      "cell_type": "code",
      "execution_count": null,
      "metadata": {
        "colab": {
          "base_uri": "https://localhost:8080/"
        },
        "id": "HH_FgRJsw9pR",
        "outputId": "a247d97c-3569-48c5-98c6-f0393ba73c80"
      },
      "outputs": [
        {
          "name": "stdout",
          "output_type": "stream",
          "text": [
            "Movies dataframe:\n",
            "\n",
            "|    |   movieId | title                              | genres                                      |\n",
            "|---:|----------:|:-----------------------------------|:--------------------------------------------|\n",
            "|  0 |         1 | Toy Story (1995)                   | Adventure|Animation|Children|Comedy|Fantasy |\n",
            "|  1 |         2 | Jumanji (1995)                     | Adventure|Children|Fantasy                  |\n",
            "|  2 |         3 | Grumpier Old Men (1995)            | Comedy|Romance                              |\n",
            "|  3 |         4 | Waiting to Exhale (1995)           | Comedy|Drama|Romance                        |\n",
            "|  4 |         5 | Father of the Bride Part II (1995) | Comedy                                      |\n",
            "<class 'pandas.core.frame.DataFrame'>\n",
            "RangeIndex: 27278 entries, 0 to 27277\n",
            "Data columns (total 3 columns):\n",
            " #   Column   Non-Null Count  Dtype \n",
            "---  ------   --------------  ----- \n",
            " 0   movieId  27278 non-null  int64 \n",
            " 1   title    27278 non-null  object\n",
            " 2   genres   27278 non-null  object\n",
            "dtypes: int64(1), object(2)\n",
            "memory usage: 639.5+ KB\n",
            "None\n"
          ]
        }
      ],
      "source": [
        "# Movies dataframe\n",
        "print(\"Movies dataframe:\\n\")\n",
        "print(movies.head().to_markdown())\n",
        "print(movies.info())"
      ]
    },
    {
      "cell_type": "code",
      "execution_count": null,
      "metadata": {
        "colab": {
          "base_uri": "https://localhost:8080/"
        },
        "id": "ZKE9RlbooaUa",
        "outputId": "aaedae7c-53b0-4cf6-af2a-d1f91592ec1c"
      },
      "outputs": [
        {
          "name": "stdout",
          "output_type": "stream",
          "text": [
            "|    |   movieId | title                       | genres                                                      |   year |\n",
            "|---:|----------:|:----------------------------|:------------------------------------------------------------|-------:|\n",
            "|  0 |         1 | Toy Story                   | ['Adventure', 'Animation', 'Children', 'Comedy', 'Fantasy'] |   1995 |\n",
            "|  1 |         2 | Jumanji                     | ['Adventure', 'Children', 'Fantasy']                        |   1995 |\n",
            "|  2 |         3 | Grumpier Old Men            | ['Comedy', 'Romance']                                       |   1995 |\n",
            "|  3 |         4 | Waiting to Exhale           | ['Comedy', 'Drama', 'Romance']                              |   1995 |\n",
            "|  4 |         5 | Father of the Bride Part II | ['Comedy']                                                  |   1995 |\n"
          ]
        }
      ],
      "source": [
        "# Extract year from title and update title column\n",
        "import re\n",
        "\n",
        "def extract_year(title):\n",
        "  \"\"\"\n",
        "  Extracts the year from a movie title string and removes it from the title.\n",
        "\n",
        "  Args:\n",
        "    title: The movie title string.\n",
        "\n",
        "  Returns:\n",
        "    A tuple containing the cleaned title and the year as an integer,\n",
        "    or None if no year is found.\n",
        "  \"\"\"\n",
        "  match = re.search(r'(.*)\\((\\d{4})\\)', title)\n",
        "  if match:\n",
        "    return match.group(1).strip(), int(match.group(2))\n",
        "  else:\n",
        "    return title, None\n",
        "\n",
        "# Apply the function and create 'year' and updated 'title' columns\n",
        "movies[['title', 'year']] = movies['title'].apply(extract_year).apply(pd.Series)\n",
        "\n",
        "# Transform 'genres' into an array of strings\n",
        "movies['genres'] = movies['genres'].str.split('|')\n",
        "\n",
        "# Print the first few rows to verify the changes\n",
        "print(movies.head().to_markdown())"
      ]
    },
    {
      "cell_type": "markdown",
      "metadata": {
        "id": "e75EpILgmfXX"
      },
      "source": [
        "#### Dataframe: **ratings**"
      ]
    },
    {
      "cell_type": "markdown",
      "metadata": {
        "id": "ZFI-K-U_q0HP"
      },
      "source": [
        "The **ratings** dataframe is all about capturing how users interact with movies. It's essentially a big table where each row records a specific user giving a specific movie a particular rating.\n",
        "\n",
        "Here's the gist of its columns:\n",
        "\n",
        "* **userId**: A unique ID for each user in the system.\n",
        "* **movieId**: This links the rating to the movie it's about, matching the IDs in the **movies** dataframe.\n",
        "* **rating**: The actual rating the user gave the movie, likely on a scale (like 0.5 to 5 stars).\n",
        "* **timestamp**: This tells us when the user gave the rating."
      ]
    },
    {
      "cell_type": "code",
      "execution_count": null,
      "metadata": {
        "colab": {
          "base_uri": "https://localhost:8080/"
        },
        "id": "JH2VH3AHmu-E",
        "outputId": "623440c4-03d1-4efc-a770-fc09db7a1c3e"
      },
      "outputs": [
        {
          "name": "stdout",
          "output_type": "stream",
          "text": [
            "\n",
            "Ratings dataframe:\n",
            "|    |   userId |   movieId |   rating | timestamp           |\n",
            "|---:|---------:|----------:|---------:|:--------------------|\n",
            "|  0 |        1 |         2 |      3.5 | 2005-04-02 23:53:47 |\n",
            "|  1 |        1 |        29 |      3.5 | 2005-04-02 23:31:16 |\n",
            "|  2 |        1 |        32 |      3.5 | 2005-04-02 23:33:39 |\n",
            "|  3 |        1 |        47 |      3.5 | 2005-04-02 23:32:07 |\n",
            "|  4 |        1 |        50 |      3.5 | 2005-04-02 23:29:40 |\n",
            "<class 'pandas.core.frame.DataFrame'>\n",
            "RangeIndex: 20000263 entries, 0 to 20000262\n",
            "Data columns (total 4 columns):\n",
            " #   Column     Dtype  \n",
            "---  ------     -----  \n",
            " 0   userId     int64  \n",
            " 1   movieId    int64  \n",
            " 2   rating     float64\n",
            " 3   timestamp  object \n",
            "dtypes: float64(1), int64(2), object(1)\n",
            "memory usage: 610.4+ MB\n",
            "None\n",
            "|       |      rating |\n",
            "|:------|------------:|\n",
            "| count | 2.00003e+07 |\n",
            "| mean  | 3.52553     |\n",
            "| std   | 1.05199     |\n",
            "| min   | 0.5         |\n",
            "| 25%   | 3           |\n",
            "| 50%   | 3.5         |\n",
            "| 75%   | 4           |\n",
            "| max   | 5           |\n"
          ]
        }
      ],
      "source": [
        "print(\"\\nRatings dataframe:\")\n",
        "print(ratings.head().to_markdown())\n",
        "print(ratings.info())\n",
        "print(ratings['rating'].describe().to_markdown())"
      ]
    },
    {
      "cell_type": "code",
      "execution_count": null,
      "metadata": {
        "colab": {
          "base_uri": "https://localhost:8080/",
          "height": 472
        },
        "id": "zWCwpelgnGyv",
        "outputId": "c13d9af4-65ee-49fa-a206-67cfde993686"
      },
      "outputs": [
        {
          "data": {
            "image/png": "[encoded data removed]",
            "text/plain": [
              "<Figure size 640x480 with 1 Axes>"
            ]
          },
          "metadata": {},
          "output_type": "display_data"
        }
      ],
      "source": [
        "# Histogram of rating distribution\n",
        "import matplotlib.pyplot as plt\n",
        "plt.hist(ratings['rating'], bins=10)\n",
        "plt.xlabel('Rating')\n",
        "plt.ylabel('Frequency')\n",
        "plt.title('Distribution of Ratings')\n",
        "plt.show()"
      ]
    },
    {
      "cell_type": "markdown",
      "metadata": {
        "id": "LWHpzd7UshaD"
      },
      "source": [
        "#### Dataframe: **tags**"
      ]
    },
    {
      "cell_type": "markdown",
      "metadata": {
        "id": "2rDWyd51t-bs"
      },
      "source": [
        "The **tags** dataframe gives us insights into how users perceive and describe movies. It's a record of tags or keywords that users have associated with specific films.\n",
        "\n",
        "Here's a rundown of its key components:\n",
        "\n",
        "* **userId**: A unique identifier for each user who has provided a tag.\n",
        "* **movieId**: This connects the tag to the movie it refers to, aligning with the **movieId** in the **movies** dataframe.\n",
        "* **tag**: The actual tag or keyword that the user has assigned to the movie. These are usually short phrases or terms that describe some aspect of the film, like \"atmospheric,\" \"mind-bending,\" or \"slow burn.\"\n",
        "* **timestamp**: This indicates when the user added the tag."
      ]
    },
    {
      "cell_type": "code",
      "execution_count": null,
      "metadata": {
        "colab": {
          "base_uri": "https://localhost:8080/"
        },
        "id": "QlPiv2Z2s_Lz",
        "outputId": "382ebd41-f543-4497-e49b-737f990c85b5"
      },
      "outputs": [
        {
          "name": "stdout",
          "output_type": "stream",
          "text": [
            "\n",
            "Tags dataframe:\n",
            "|    |   userId |   movieId | tag           | timestamp           |\n",
            "|---:|---------:|----------:|:--------------|:--------------------|\n",
            "|  0 |       18 |      4141 | Mark Waters   | 2009-04-24 18:19:40 |\n",
            "|  1 |       65 |       208 | dark hero     | 2013-05-10 01:41:18 |\n",
            "|  2 |       65 |       353 | dark hero     | 2013-05-10 01:41:19 |\n",
            "|  3 |       65 |       521 | noir thriller | 2013-05-10 01:39:43 |\n",
            "|  4 |       65 |       592 | dark hero     | 2013-05-10 01:41:18 |\n",
            "<class 'pandas.core.frame.DataFrame'>\n",
            "RangeIndex: 465564 entries, 0 to 465563\n",
            "Data columns (total 4 columns):\n",
            " #   Column     Non-Null Count   Dtype \n",
            "---  ------     --------------   ----- \n",
            " 0   userId     465564 non-null  int64 \n",
            " 1   movieId    465564 non-null  int64 \n",
            " 2   tag        465548 non-null  object\n",
            " 3   timestamp  465564 non-null  object\n",
            "dtypes: int64(2), object(2)\n",
            "memory usage: 14.2+ MB\n",
            "None\n"
          ]
        }
      ],
      "source": [
        "print(\"\\nTags dataframe:\")\n",
        "print(tags.head().to_markdown())\n",
        "print(tags.info())"
      ]
    },
    {
      "cell_type": "markdown",
      "metadata": {
        "id": "DNE1364wsm8c"
      },
      "source": [
        "#### Dataframe: **links**"
      ]
    },
    {
      "cell_type": "markdown",
      "metadata": {
        "id": "gDKSdjP2uqoF"
      },
      "source": [
        "The **links** dataframe acts like a bridge between our movie dataset and the wider world of movie information. It provides connections to external resources where we can potentially find more details about each film.\n",
        "\n",
        "Here's what it contains:\n",
        "\n",
        "* **movieId**: Our familiar unique identifier for each movie, ensuring consistency with the other dataframes.\n",
        "* **imdbId**: This is the corresponding movie ID on IMDb (Internet Movie Database), a massive online database of movie information, cast and crew details, user reviews, and more.\n",
        "* **tmdbId**: This links to The Movie Database (TMDb), another popular online resource for movie data, including posters, trailers, and fan discussions."
      ]
    },
    {
      "cell_type": "code",
      "execution_count": null,
      "metadata": {
        "colab": {
          "base_uri": "https://localhost:8080/"
        },
        "id": "BrUhhffCtG_-",
        "outputId": "7cfbecfd-5a6f-4785-c23a-d3044c118bdb"
      },
      "outputs": [
        {
          "name": "stdout",
          "output_type": "stream",
          "text": [
            "\n",
            "Links dataframe:\n",
            "|    |   movieId |   imdbId |   tmdbId |\n",
            "|---:|----------:|---------:|---------:|\n",
            "|  0 |         1 |   114709 |      862 |\n",
            "|  1 |         2 |   113497 |     8844 |\n",
            "|  2 |         3 |   113228 |    15602 |\n",
            "|  3 |         4 |   114885 |    31357 |\n",
            "|  4 |         5 |   113041 |    11862 |\n",
            "<class 'pandas.core.frame.DataFrame'>\n",
            "RangeIndex: 27278 entries, 0 to 27277\n",
            "Data columns (total 3 columns):\n",
            " #   Column   Non-Null Count  Dtype  \n",
            "---  ------   --------------  -----  \n",
            " 0   movieId  27278 non-null  int64  \n",
            " 1   imdbId   27278 non-null  int64  \n",
            " 2   tmdbId   27026 non-null  float64\n",
            "dtypes: float64(1), int64(2)\n",
            "memory usage: 639.5 KB\n",
            "None\n"
          ]
        }
      ],
      "source": [
        "print(\"\\nLinks dataframe:\")\n",
        "print(links.head().to_markdown())\n",
        "print(links.info())"
      ]
    },
    {
      "cell_type": "markdown",
      "metadata": {
        "id": "K95JmadVssFv"
      },
      "source": [
        "#### Dataframe: **Genome scores**"
      ]
    },
    {
      "cell_type": "markdown",
      "metadata": {
        "id": "m-XvrUvVvgts"
      },
      "source": [
        "The **genome_scores** dataframe provides a way to connect movies with a predefined set of tags, giving us a more standardized way to describe the films.\n",
        "\n",
        "Here's what it contains:\n",
        "\n",
        "* **movieId**: This links the scores to the specific movie, matching the movieId in the movies dataframe.\n",
        "* **tagId**: This refers to a specific tag from a predefined set of tags called the \"genome.\" Each **tagId** represents a particular characteristic or theme.\n",
        "* **relevance**: This score indicates how strongly the tag is associated with the movie. It's a numerical value that represents the relevance of the tag to the movie, on a scale from 0 to 1, where higher scores indicate a stronger association.\n",
        "\n",
        "In essence, this dataframe gives us a structured way to understand the thematic content of movies. Instead of relying solely on user-generated tags, which can be inconsistent and subjective, the genome scores provide a more standardized and objective way to describe the movies."
      ]
    },
    {
      "cell_type": "code",
      "execution_count": null,
      "metadata": {
        "colab": {
          "base_uri": "https://localhost:8080/"
        },
        "id": "MjP9pgjktKXg",
        "outputId": "770ead19-af78-4a81-c880-12f1ebca0abd"
      },
      "outputs": [
        {
          "name": "stdout",
          "output_type": "stream",
          "text": [
            "\n",
            "Genome scores dataframe:\n",
            "|    |   movieId |   tagId |   relevance |\n",
            "|---:|----------:|--------:|------------:|\n",
            "|  0 |         1 |       1 |     0.025   |\n",
            "|  1 |         1 |       2 |     0.025   |\n",
            "|  2 |         1 |       3 |     0.05775 |\n",
            "|  3 |         1 |       4 |     0.09675 |\n",
            "|  4 |         1 |       5 |     0.14675 |\n",
            "<class 'pandas.core.frame.DataFrame'>\n",
            "RangeIndex: 11709768 entries, 0 to 11709767\n",
            "Data columns (total 3 columns):\n",
            " #   Column     Dtype  \n",
            "---  ------     -----  \n",
            " 0   movieId    int64  \n",
            " 1   tagId      int64  \n",
            " 2   relevance  float64\n",
            "dtypes: float64(1), int64(2)\n",
            "memory usage: 268.0 MB\n",
            "None\n",
            "|       |   relevance |\n",
            "|:------|------------:|\n",
            "| count | 1.17098e+07 |\n",
            "| mean  | 0.116483    |\n",
            "| std   | 0.154246    |\n",
            "| min   | 0.00025     |\n",
            "| 25%   | 0.02425     |\n",
            "| 50%   | 0.0565      |\n",
            "| 75%   | 0.1415      |\n",
            "| max   | 1           |\n"
          ]
        }
      ],
      "source": [
        "print(\"\\nGenome scores dataframe:\")\n",
        "print(genome_scores.head().to_markdown())\n",
        "print(genome_scores.info())\n",
        "print(genome_scores['relevance'].describe().to_markdown())"
      ]
    },
    {
      "cell_type": "markdown",
      "metadata": {
        "id": "9Xx3jkkhs0Tu"
      },
      "source": [
        "#### Dataframe: **Genome tags**"
      ]
    },
    {
      "cell_type": "markdown",
      "metadata": {
        "id": "W9ZQfp4xwPBt"
      },
      "source": [
        "The **genome_tags** dataframe is like a dictionary that explains the meaning of the tags used in the **genome_scores** dataframe.  It provides the textual descriptions for the numerical **tagId** values.\n",
        "\n",
        "Here's what it tells us:\n",
        "\n",
        "* **tagId**: A unique numerical identifier for each tag in the genome. This corresponds to the **tagId** used in the **genome_scores** dataframe.\n",
        "* **tag**: The actual textual description of the tag, providing a human-understandable label for the **tagId**. For example, a **tagId** of 2 correspond to the tag \"007 (series)\".\n",
        "\n",
        "Essentially, this dataframe acts as a lookup table to decode the **tagId** values in the **genome_scores** dataframe."
      ]
    },
    {
      "cell_type": "code",
      "execution_count": null,
      "metadata": {
        "colab": {
          "base_uri": "https://localhost:8080/"
        },
        "id": "BoE6PeWDtOc8",
        "outputId": "5efff9d5-d969-49cc-a898-cabd3720108f"
      },
      "outputs": [
        {
          "name": "stdout",
          "output_type": "stream",
          "text": [
            "\n",
            "Genome tags dataframe:\n",
            "|    |   tagId | tag          |\n",
            "|---:|--------:|:-------------|\n",
            "|  0 |       1 | 007          |\n",
            "|  1 |       2 | 007 (series) |\n",
            "|  2 |       3 | 18th century |\n",
            "|  3 |       4 | 1920s        |\n",
            "|  4 |       5 | 1930s        |\n",
            "<class 'pandas.core.frame.DataFrame'>\n",
            "RangeIndex: 1128 entries, 0 to 1127\n",
            "Data columns (total 2 columns):\n",
            " #   Column  Non-Null Count  Dtype \n",
            "---  ------  --------------  ----- \n",
            " 0   tagId   1128 non-null   int64 \n",
            " 1   tag     1128 non-null   object\n",
            "dtypes: int64(1), object(1)\n",
            "memory usage: 17.8+ KB\n",
            "None\n"
          ]
        }
      ],
      "source": [
        "print(\"\\nGenome tags dataframe:\")\n",
        "print(genome_tags.head().to_markdown())\n",
        "print(genome_tags.info())"
      ]
    },
    {
      "cell_type": "markdown",
      "metadata": {
        "id": "0_HeYLPayMDN"
      },
      "source": [
        "#### EDA (further exploration)"
      ]
    },
    {
      "cell_type": "markdown",
      "metadata": {
        "id": "Uo-Zi_j0y62e"
      },
      "source": [
        "1. **Rating Distribution by User**\n",
        "\n",
        "The histogram shows that most users have rated a relatively small number of movies.\n",
        "There are a few users who have rated a very large number of movies (power users)."
      ]
    },
    {
      "cell_type": "code",
      "execution_count": null,
      "metadata": {
        "colab": {
          "base_uri": "https://localhost:8080/",
          "height": 472
        },
        "id": "sKdG30nZyS-S",
        "outputId": "993d1795-0a1b-4930-d7c8-e8afd5f3e84c"
      },
      "outputs": [
        {
          "data": {
            "image/png": "[encoded data removed]",
            "text/plain": [
              "<Figure size 640x480 with 1 Axes>"
            ]
          },
          "metadata": {},
          "output_type": "display_data"
        }
      ],
      "source": [
        "# 1. Rating Distribution by User\n",
        "user_ratings_count = ratings.groupby('userId')['rating'].count()\n",
        "plt.hist(user_ratings_count, bins=30)\n",
        "plt.title('Distribution of Number of Ratings per User')\n",
        "plt.xlabel('Number of Ratings')\n",
        "plt.ylabel('Number of Users')\n",
        "plt.show()"
      ]
    },
    {
      "cell_type": "markdown",
      "metadata": {
        "id": "RcC8DRCtzhZj"
      },
      "source": [
        "2. **Rating Distribution by Movie**\n",
        "\n",
        "Similarly, most movies have received only a small number of ratings.\n",
        "A few movies have a very high number of ratings, likely indicating popular or well-known films."
      ]
    },
    {
      "cell_type": "code",
      "execution_count": null,
      "metadata": {
        "colab": {
          "base_uri": "https://localhost:8080/",
          "height": 472
        },
        "id": "tSi7GPz3znAA",
        "outputId": "d0497aad-7cf9-46e2-f46a-5f85ce08e0c2"
      },
      "outputs": [
        {
          "data": {
            "image/png": "[encoded data removed]",
            "text/plain": [
              "<Figure size 640x480 with 1 Axes>"
            ]
          },
          "metadata": {},
          "output_type": "display_data"
        }
      ],
      "source": [
        "# 2. Rating Distribution by Movie\n",
        "movie_ratings_count = ratings.groupby('movieId')['rating'].count()\n",
        "plt.hist(movie_ratings_count, bins=30)\n",
        "plt.title('Distribution of Number of Ratings per Movie')\n",
        "plt.xlabel('Number of Ratings')\n",
        "plt.ylabel('Number of Movies')\n",
        "plt.show()"
      ]
    },
    {
      "cell_type": "markdown",
      "metadata": {
        "id": "CmQe8YO1zrLs"
      },
      "source": [
        "3. **Average Rating per Movie**\n",
        "\n",
        "The distribution of average ratings seems to be roughly centered around 3.5, with a slight skew towards higher ratings. This suggests that users tend to rate movies more favorably on average."
      ]
    },
    {
      "cell_type": "code",
      "execution_count": null,
      "metadata": {
        "colab": {
          "base_uri": "https://localhost:8080/",
          "height": 472
        },
        "id": "shhIwefHzwen",
        "outputId": "7ce7a0e8-0d3f-4160-8747-4b917b8be0e3"
      },
      "outputs": [
        {
          "data": {
            "image/png": "[encoded data removed]",
            "text/plain": [
              "<Figure size 640x480 with 1 Axes>"
            ]
          },
          "metadata": {},
          "output_type": "display_data"
        }
      ],
      "source": [
        "# 3. Average Rating per Movie\n",
        "average_movie_rating = ratings.groupby('movieId')['rating'].mean()\n",
        "plt.hist(average_movie_rating, bins=30)\n",
        "plt.title('Distribution of Average Rating per Movie')\n",
        "plt.xlabel('Average Rating')\n",
        "plt.ylabel('Number of Movies')\n",
        "plt.show()"
      ]
    },
    {
      "cell_type": "markdown",
      "metadata": {
        "id": "xLnt5NhMz0qw"
      },
      "source": [
        "4. **Top Rated Movies**\n",
        "\n",
        "This list gives us an idea of which movies are highly rated by users.\n",
        "\n",
        "* **Classics Dominate**: As expected, many of the top-rated movies are critically acclaimed classics like \"The Shawshank Redemption,\" \"The Godfather,\" and \"Schindler's List.\" These films have consistently received high praise and are popular among cinephiles.\n",
        "* **High Number of Ratings**: The **num_ratings** column confirms that these top-rated movies have been rated by a significant number of users. This adds weight to their average rating, as it suggests a broader consensus among viewers."
      ]
    },
    {
      "cell_type": "code",
      "execution_count": null,
      "metadata": {
        "colab": {
          "base_uri": "https://localhost:8080/"
        },
        "id": "DQuja6YXz1BG",
        "outputId": "566cdfd7-74e3-4330-d761-0610eab14af7"
      },
      "outputs": [
        {
          "name": "stdout",
          "output_type": "stream",
          "text": [
            "\n",
            "Top Rated Movies:\n",
            " |    |   movieId | title                                  |   rating |   num_ratings |\n",
            "|---:|----------:|:---------------------------------------|---------:|--------------:|\n",
            "|  0 |       318 | Shawshank Redemption, The              |  4.44699 |         63366 |\n",
            "|  1 |       858 | Godfather, The                         |  4.36473 |         41355 |\n",
            "|  2 |        50 | Usual Suspects, The                    |  4.33437 |         47006 |\n",
            "|  3 |       527 | Schindler's List                       |  4.31018 |         50054 |\n",
            "|  4 |      1221 | Godfather: Part II, The                |  4.27564 |         27398 |\n",
            "|  5 |      2019 | Seven Samurai (Shichinin no samurai)   |  4.27418 |         11611 |\n",
            "|  6 |       904 | Rear Window                            |  4.27133 |         17449 |\n",
            "|  7 |      7502 | Band of Brothers                       |  4.26318 |          4305 |\n",
            "|  8 |       912 | Casablanca                             |  4.25833 |         24349 |\n",
            "|  9 |       922 | Sunset Blvd. (a.k.a. Sunset Boulevard) |  4.25693 |          6525 |\n"
          ]
        }
      ],
      "source": [
        "# 4. Top Rated Movies (with minimum number of ratings)\n",
        "\n",
        "min_ratings_threshold = 50  # Consider movies with at least this many ratings\n",
        "\n",
        "# Calculate average rating and number of ratings per movie\n",
        "average_movie_rating = ratings.groupby('movieId')['rating'].mean()\n",
        "movie_ratings_count = ratings.groupby('movieId')['rating'].count()\n",
        "\n",
        "# Filter for movies with enough ratings and sort by average rating\n",
        "top_rated_movies = average_movie_rating[movie_ratings_count >= min_ratings_threshold].sort_values(ascending=False)\n",
        "\n",
        "# Merge with movies dataframe to get titles\n",
        "top_rated_movies = top_rated_movies.reset_index().merge(movies[['movieId', 'title']], on='movieId')\n",
        "\n",
        "# Add number of ratings to the output\n",
        "top_rated_movies['num_ratings'] = top_rated_movies['movieId'].map(movie_ratings_count)\n",
        "\n",
        "# Display the top-rated movies with title and number of ratings\n",
        "print(\"\\nTop Rated Movies:\\n\", top_rated_movies[['movieId', 'title', 'rating', 'num_ratings']].head(10).to_markdown())"
      ]
    },
    {
      "cell_type": "markdown",
      "metadata": {
        "id": "1l7WJnylz4rP"
      },
      "source": [
        "5. **Tag Analysis - Most Popular Tags**\n",
        "\n",
        "This analysis reveals the most frequently used tags, giving us insights into the common themes and characteristics that users associate with movies. We can see that some of the most popular tags include \"sci-fi\", \"based on a book\", \"atmospheric\", \"action\", \"comedy\" and \"surreal\""
      ]
    },
    {
      "cell_type": "code",
      "execution_count": null,
      "metadata": {
        "colab": {
          "base_uri": "https://localhost:8080/"
        },
        "id": "KAalFbX3z4yS",
        "outputId": "c0f8ff0b-92fa-44c0-d5d7-2ec8449c806e"
      },
      "outputs": [
        {
          "name": "stdout",
          "output_type": "stream",
          "text": [
            "\n",
            "Most Popular Tags:\n",
            " | tag             |   count |\n",
            "|:----------------|--------:|\n",
            "| sci-fi          |    3384 |\n",
            "| based on a book |    3281 |\n",
            "| atmospheric     |    2917 |\n",
            "| comedy          |    2779 |\n",
            "| action          |    2657 |\n",
            "| surreal         |    2427 |\n",
            "| BD-R            |    2334 |\n",
            "| twist ending    |    2323 |\n",
            "| funny           |    2072 |\n",
            "| dystopia        |    1991 |\n"
          ]
        }
      ],
      "source": [
        "# 5. Tag Analysis - Most Popular Tags\n",
        "tag_counts = tags['tag'].value_counts()\n",
        "print(\"\\nMost Popular Tags:\\n\", tag_counts.head(10).to_markdown())"
      ]
    },
    {
      "cell_type": "markdown",
      "metadata": {
        "id": "qliNf-EAz8gt"
      },
      "source": [
        "6. **Genre-Rating Relationship**\n",
        "\n",
        "This analysis shows that some genres, such as \"Film-Noir\" and \"War,\" tend to have higher average ratings, while others, like \"Horror\" and \"Sci-Fi,\" have slightly lower average ratings. This could be due to differences in user preferences or the types of movies that fall into each genre."
      ]
    },
    {
      "cell_type": "code",
      "execution_count": null,
      "metadata": {
        "colab": {
          "base_uri": "https://localhost:8080/"
        },
        "id": "4YsApEYVz81x",
        "outputId": "d0f58a85-39eb-4961-bbf1-7911da40b624"
      },
      "outputs": [
        {
          "name": "stdout",
          "output_type": "stream",
          "text": [
            "\n",
            "Average Rating by Genre:\n",
            " | genres      |   rating |\n",
            "|:------------|---------:|\n",
            "| Film-Noir   |  3.96538 |\n",
            "| War         |  3.80953 |\n",
            "| Documentary |  3.73972 |\n",
            "| Crime       |  3.67453 |\n",
            "| Drama       |  3.6743  |\n",
            "| Mystery     |  3.66351 |\n",
            "| IMAX        |  3.65595 |\n",
            "| Animation   |  3.61749 |\n",
            "| Western     |  3.5705  |\n",
            "| Musical     |  3.55809 |\n"
          ]
        }
      ],
      "source": [
        "# 6. Genre-Rating Relationship\n",
        "genre_rating = movies.explode('genres').merge(ratings, on='movieId').groupby('genres')['rating'].mean()\n",
        "print(\"\\nAverage Rating by Genre:\\n\", genre_rating.sort_values(ascending=False).head(10).to_markdown())"
      ]
    },
    {
      "cell_type": "markdown",
      "metadata": {
        "id": "usZfjsFp0BTe"
      },
      "source": [
        "7. **Year-Rating Relationship**\n",
        "\n",
        "The plot of average rating over time shows some interesting trends. It appears that older movies tend to have slightly higher average ratings than newer movies. This could be due to a variety of factors, such as nostalgia, survivorship bias (only good older movies remain popular), or changes in user preferences over time."
      ]
    },
    {
      "cell_type": "code",
      "execution_count": null,
      "metadata": {
        "colab": {
          "base_uri": "https://localhost:8080/",
          "height": 472
        },
        "id": "Tv5l3XEZ0D68",
        "outputId": "37c17f00-b75d-4183-b5c3-e9c9d3744b00"
      },
      "outputs": [
        {
          "data": {
            "image/png": "[encoded data removed]",
            "text/plain": [
              "<Figure size 640x480 with 1 Axes>"
            ]
          },
          "metadata": {},
          "output_type": "display_data"
        }
      ],
      "source": [
        "# 7. Year-Rating Relationship\n",
        "year_rating = movies.merge(ratings, on='movieId').groupby('year')['rating'].mean()\n",
        "plt.plot(year_rating.index, year_rating.values)\n",
        "plt.title('Average Rating Over Time')\n",
        "plt.xlabel('Year')\n",
        "plt.ylabel('Average Rating')\n",
        "plt.show()"
      ]
    },
    {
      "cell_type": "markdown",
      "metadata": {
        "id": "I7IyioImw-xG"
      },
      "source": [
        "## 1.2 Minhash Signatures"
      ]
    },
    {
      "cell_type": "markdown",
      "metadata": {
        "id": "f_JJ86gYxNx0"
      },
      "source": [
        "Using the **userId** and **movieId** columns, implement your own MinHash function. This function will hash each user's watched movie list, creating a representation that allows for quick comparisons of user similarities.\n",
        "\n",
        "* **Important**: Implement your MinHash function from scratch — **do not use any pre-built hash functions**\n",
        "* Use your MinHash function to generate signature vectors for each user based on their rated movies.\n",
        "* Experiment with different hash functions and threshold values to find the most effective configurations. Report these results.\n",
        "* Read the class materials and, if necessary, conduct an internet search. The description of hash functions in the [book](http://infolab.stanford.edu/~ullman/mmds/ch3n.pdf) may be helpful as a reference."
      ]
    },
    {
      "cell_type": "markdown",
      "metadata": {
        "id": "AcFToQ8aoNfI"
      },
      "source": [
        "We create a data structure that maps each user to the unique set of movies they've rated"
      ]
    },
    {
      "cell_type": "code",
      "execution_count": null,
      "metadata": {
        "colab": {
          "base_uri": "https://localhost:8080/"
        },
        "id": "J43G3jEsnKzc",
        "outputId": "343cebd2-8319-48f5-d633-94b40823275a"
      },
      "outputs": [
        {
          "name": "stdout",
          "output_type": "stream",
          "text": [
            "userId\n",
            "1         {2, 3081, 4105, 1036, 5146, 541, 29, 32, 4128,...\n",
            "2         {3, 260, 2948, 2951, 1544, 1673, 266, 908, 245...\n",
            "3         {512, 1, 3072, 2053, 2054, 2567, 1544, 2571, 1...\n",
            "4         {6, 519, 520, 10, 19, 531, 32, 420, 165, 548, ...\n",
            "5         {2, 515, 260, 1028, 648, 11, 140, 141, 780, 10...\n",
            "                                ...                        \n",
            "138489    {2571, 2959, 912, 2324, 2455, 1562, 29, 1061, ...\n",
            "138490    {1543, 3079, 2573, 2575, 17, 529, 531, 1041, 2...\n",
            "138491    {1, 8961, 33794, 3608, 4128, 2722, 2085, 2857,...\n",
            "138492    {2054, 2571, 21, 2599, 5673, 1073, 6711, 58, 2...\n",
            "138493    {1, 2, 2050, 2051, 69644, 2065, 18, 19, 2078, ...\n",
            "Name: movieId, Length: 138493, dtype: object\n"
          ]
        }
      ],
      "source": [
        "userID_movie_map = ratings.groupby('userId')['movieId'].apply(set)\n",
        "print(userID_movie_map)"
      ]
    },
    {
      "cell_type": "markdown",
      "source": [
        "We implement the MinHash algorithm to efficiently estimate the similarity between users based on their movie preferences"
      ],
      "metadata": {
        "id": "h9oPTQWS2OKJ"
      }
    },
    {
      "cell_type": "code",
      "source": [
        "import random\n",
        "import numpy as np\n",
        "\n",
        "# takes the number of hash functions (num_functions) as input\n",
        "def generate_hash_functions(num_functions):\n",
        "  \"\"\"Generates a list of prime numbers as hash functions.\"\"\"\n",
        "\n",
        "  # List of prime numbers to be used as hash functions\n",
        "  primes = [2, 3, 5, 7, 11, 13]\n",
        "  # ensures that the number of hash functions requested does not exceed the number of primes available in the list\n",
        "  num_functions = min(num_functions, len(primes))\n",
        "\n",
        "  # randomly selects num_functions prime numbers from the list of primes and returns them as a list.\n",
        "  # This list will be used as the hash functions in the MinHash algorithm\n",
        "  return random.sample(primes, num_functions)\n",
        "\n",
        "# takes the number of items (num_items) as input\n",
        "def create_permutation(num_items):\n",
        "  \"\"\"Creates a random permutation of indices.\"\"\"\n",
        "\n",
        "  # uses the np.random.permutation() function from NumPy to create...\n",
        "  # ... a random permutation of the integers from 0 to num_items - 1.\n",
        "  # This permutation will be used to shuffle the order of the items when calculating the hash values.\n",
        "  return np.random.permutation(num_items)\n",
        "\n",
        "# takes the set of movie IDs, a list of hash functions, and a list of permutations as input\n",
        "def minhash(movie_ids, hash_functions, permutations):\n",
        "  \"\"\"Calculates the MinHash signature for a set of movie IDs.\"\"\"\n",
        "\n",
        "  # Initialize an empty list to store the MinHash signature\n",
        "  signature = []\n",
        "\n",
        "  # Iterate over each hash function\n",
        "  for h in range(len(hash_functions)):\n",
        "    # Initialize min_hash with infinity\n",
        "    # This is because we are looking for the minimum hash value for each hash function\n",
        "    min_hash = float('inf')\n",
        "\n",
        "    # Iterate over each movie ID in the user's movie set\n",
        "    for movie_id in movie_ids:\n",
        "      # Apply the h-th permutation to the movie ID\n",
        "      # The permutations[h] gives the permutation array for the h-th hash function\n",
        "      index = permutations[h][movie_id]\n",
        "      # Update min_hash if the current index is smaller\n",
        "      min_hash = min(min_hash, index)\n",
        "    # Append the minimum hash value to the signature\n",
        "    signature.append(min_hash)\n",
        "\n",
        "  return signature\n",
        "\n",
        "# sets the number of hash functions to use to 100\n",
        "num_hash_functions = 100\n",
        "max_movie_id = 0\n",
        "for movie_ids in userID_movie_map.values:\n",
        "  for movie_id in movie_ids:\n",
        "      max_movie_id = max(max_movie_id, movie_id)\n",
        "# calculates the total number of items (movies) to be considered for the permutations\n",
        "num_items = max_movie_id + 1\n",
        "\n",
        "# calls the generate_hash_functions function to create a list of hash functions\n",
        "hash_functions = generate_hash_functions(num_hash_functions)\n",
        "# creates a list of permutation matrices, one for each hash function\n",
        "permutations = [create_permutation(num_items) for _ in range(num_hash_functions)]\n",
        "\n",
        "# empty dictionary to store the MinHash signatures for each user\n",
        "user_signatures = {}\n",
        "# iterates over the user IDs and their corresponding sets of movie IDs\n",
        "for user_id, movie_ids in userID_movie_map.items():\n",
        "  # calculates the MinHash signature for the current user using the minhash function...\n",
        "  # ... and stores it in the user_signatures dictionary\n",
        "  user_signatures[user_id] = minhash(movie_ids, hash_functions, permutations)"
      ],
      "metadata": {
        "id": "Hi9RW1EeuyJj"
      },
      "execution_count": 53,
      "outputs": []
    },
    {
      "cell_type": "code",
      "execution_count": 54,
      "metadata": {
        "colab": {
          "base_uri": "https://localhost:8080/"
        },
        "id": "Ya580M6Zspy0",
        "outputId": "b4c7f412-7be5-453a-cdf3-195b41bf5604"
      },
      "outputs": [
        {
          "output_type": "stream",
          "name": "stdout",
          "text": [
            "\n",
            "First 10 User MinHash signatures:\n",
            "User 1: [1140, 185, 259, 762, 377, 653]\n",
            "User 2: [1280, 654, 235, 1126, 2839, 1170]\n",
            "User 3: [1201, 291, 159, 1126, 38, 906]\n",
            "User 4: [3821, 583, 4930, 214, 1079, 4088]\n",
            "User 5: [277, 654, 259, 1126, 1079, 1116]\n",
            "User 6: [277, 654, 307, 1921, 1291, 44]\n",
            "User 7: [277, 291, 307, 780, 850, 176]\n",
            "User 8: [586, 583, 1185, 1126, 5743, 3222]\n",
            "User 9: [2423, 2448, 1592, 745, 377, 5270]\n",
            "User 10: [5077, 654, 1920, 2453, 1444, 906]\n"
          ]
        }
      ],
      "source": [
        "# Print the first 10 user signatures\n",
        "print(\"\\nFirst 10 User MinHash signatures:\")\n",
        "for i, (user_id, signature) in enumerate(user_signatures.items()):\n",
        "    if i >= 10:\n",
        "        break\n",
        "    print(f\"User {user_id}: {signature}\")"
      ]
    },
    {
      "cell_type": "markdown",
      "metadata": {
        "id": "xBNDuZvf46Tf"
      },
      "source": [
        "# Algorithmic Question (AQ)"
      ]
    },
    {
      "cell_type": "markdown",
      "metadata": {
        "id": "1IjDIU6gxtZ7"
      },
      "source": [
        "Two brilliant strategists, Arya and Mario, are about to play a game with a sequence of numbers. Arya, as player 1, begins the game, while Mario, player 2, plays 2nd. Their goal is clear: to collect the highest possible score by taking numbers from either end of the sequence, one at a time. They will play in perfect synchronicity, each seeking the advantage.\n",
        "\n",
        "The sequence represented as an array of *nums*, is laid out in front of them. Arya will start by selecting either the number at the beginning (*nums[0]*) or the end (*nums[nums.length - 1]*) of the array, adding that value to her score. This value is then removed from the beginning or the end of $nums$. Then, it’s Mario’s turn to do the same with the remaining sequence. The game proceeds this way, with each player taking numbers from either end until no numbers are left to claim. The player with the highest score wins.\n",
        "\n",
        "However, if they end in a tie, Arya, as the first to act, will claim victory by default.\n",
        "\n",
        "Arya is now before you, asking for help to predict her chances. She wants to know, with her best possible choices, whether she can guarantee a win, assuming both players play with perfect skill."
      ]
    },
    {
      "cell_type": "markdown",
      "metadata": {
        "id": "G28nUqLUFGqz"
      },
      "source": [
        "---\n",
        "**a)** Help Arya by providing a pseudocode for finding an optimal playing strategy, that is, a strategy that maximizes her value. (Hint: Use recursion, assuming that both players play optimally)\n",
        "\n",
        "---"
      ]
    },
    {
      "cell_type": "markdown",
      "metadata": {
        "id": "VJy6BB4iHEYY"
      },
      "source": [
        "We'll employ an adversarial algorithm where two players compete against each other in a zero-sum game (one player's gain is the other player's loss). The winner is determined by the difference between their scores, and Arya's aim is to maximize this difference, while Mario's goal is to minimize it.\n",
        "\n",
        "To simulate this competitive behavior, we'll utilize the *minimax* algorithm. This algorithm recursively explores all possible moves for both players, assuming they both play optimally. In each turn, Arya will select the move that maximizes the score difference in her favor, while Mario will choose the move that minimizes this difference.\n",
        "\n",
        "```\n",
        "FUNCTION calculate_score_difference(nums, is_arya_turn):\n",
        "\n",
        "    IF nums is empty:\n",
        "        RETURN 0\n",
        "\n",
        "    IF is_arya_turn:\n",
        "          RETURN max(nums[0] + calculate_score_difference(nums[1:], False),\n",
        "                     nums[-1] + calculate_score_difference(nums[:-1], False))\n",
        "    ELSE:\n",
        "          RETURN min(-nums[0] + calculate_score_difference(nums[1:], True),\n",
        "                     -nums[-1] + calculate_score_difference(nums[:-1], True))\n",
        "\n",
        "FUNCTION can_arya_win(nums):\n",
        "    RETURN calculate_score_difference(nums, True) >= 0\n",
        "\n",
        "For each array nums:\n",
        "    can_ayra_wins(nums)\n",
        "```\n",
        "\n",
        "\n",
        "\n",
        "\n",
        "\n"
      ]
    },
    {
      "cell_type": "markdown",
      "metadata": {
        "id": "J86TNqrYFJZD"
      },
      "source": [
        "---\n",
        "**b)** Write a Python program implementing her game strategy. Try different array lengths to test the algorithm\n",
        "\n",
        "---"
      ]
    },
    {
      "cell_type": "code",
      "execution_count": null,
      "metadata": {
        "colab": {
          "base_uri": "https://localhost:8080/"
        },
        "id": "3D33Y6u7U8t7",
        "outputId": "f8d75b59-8376-42cd-a827-fc901fcccef7"
      },
      "outputs": [
        {
          "name": "stdout",
          "output_type": "stream",
          "text": [
            "Array: [1, 5, 2] --> Can Arya win? False\n",
            "Array: [1, 5, 233, 7] --> Can Arya win? True\n",
            "Array: [1, 5, 233, 7, 34, 5, 320, 6] --> Can Arya win? True\n",
            "Array: [1, 5, 233, 7, 2, 3, 120, 320, 9] --> Can Arya win? False\n",
            "Array: [1, 5, 233, 7, 2, 3, 120, 320, 9, 18, 45, 98, 45, 333, 42, 99, 1000, 23, 4503, 999, 856, 10] --> Can Arya win? True\n"
          ]
        }
      ],
      "source": [
        "def calculate_score_difference(nums, is_arya_turn):\n",
        "  \"\"\"\n",
        "  Calculates the optimal score difference that Arya can achieve,\n",
        "  assuming both players play optimally.\n",
        "\n",
        "  Args:\n",
        "    nums: The sequence of numbers.\n",
        "    is_arya_turn: True if it's Arya's turn, False if it's Mario's turn.\n",
        "\n",
        "  Returns:\n",
        "    The optimal score difference that Arya can achieve.\n",
        "  \"\"\"\n",
        "\n",
        "  # Last case: no numbers left; score difference is zero\n",
        "  if not nums:\n",
        "    return 0\n",
        "\n",
        "  if is_arya_turn:\n",
        "    # Arya's turn: maximize score difference by taking the number...\n",
        "    # ... that yields the highest score difference after Mario's optimal move\n",
        "    return max(nums[0] + calculate_score_difference(nums[1:], False),\n",
        "               nums[-1] + calculate_score_difference(nums[:-1], False))\n",
        "  else:\n",
        "    # Mario's turn: minimize Arya's score difference by taking the number...\n",
        "    # ... that yields the lowest score difference after Arya's optimal move\n",
        "    return min(-nums[0] + calculate_score_difference(nums[1:], True),\n",
        "               -nums[-1] + calculate_score_difference(nums[:-1], True))\n",
        "\n",
        "def can_arya_win(nums):\n",
        "\n",
        "  # Arya wins if the optimal score difference is non-negative\n",
        "  # True if Arya can win, False otherwise\n",
        "  return calculate_score_difference(nums, True) >= 0\n",
        "\n",
        "\n",
        "# Test cases\n",
        "test_cases = [\n",
        "  [1, 5, 2],\n",
        "  [1, 5, 233, 7],\n",
        "  [1, 5, 233, 7, 34, 5, 320, 6],\n",
        "  [1, 5, 233, 7, 2, 3, 120, 320, 9],\n",
        "  [1, 5, 233, 7, 2, 3, 120, 320, 9, 18, 45, 98, 45, 333, 42, 99, 1000, 23, 4503, 999, 856, 10]\n",
        "]\n",
        "\n",
        "# Print the results\n",
        "for nums in test_cases:\n",
        "  result = can_arya_win(nums)\n",
        "  print(f'Array: {nums} --> Can Arya win? {result}')"
      ]
    },
    {
      "cell_type": "markdown",
      "metadata": {
        "id": "Qin5-BY5FQZ4"
      },
      "source": [
        "---\n",
        "**c)** Is the algorithm efficient? Prove that it is polynomial and provide an asymptotic time complexity bound, or show that it requires exponential time\n",
        "\n",
        "---"
      ]
    },
    {
      "cell_type": "markdown",
      "metadata": {
        "id": "fKHI20ByHNho"
      },
      "source": [
        "The algorithm exhibits exponential time complexity due to its exploration of all possible move combinations for Arya and Mario. Each number in the sequence presents two choices (take the first or last), resulting in a branching factor of 2 at each step. Consequently, the total number of potential game states to explore is approximately $2^n$, where n is the input array's length. This exponential state growth leads to exponential time complexity.\n",
        "\n",
        "More formally, the asymptotic time complexity bound is $O(2^n)$. This signifies that the algorithm's running time increases exponentially with the input array's size."
      ]
    },
    {
      "cell_type": "markdown",
      "metadata": {
        "id": "1B0lPnVBFZBQ"
      },
      "source": [
        "---\n",
        "**d)** If the algorithm is exponential, explain how to make it polynomial and provide a pseudocode for it. Recompute the computational complexity of the updated algorithm\n",
        "\n",
        "---"
      ]
    },
    {
      "cell_type": "markdown",
      "metadata": {
        "id": "c900ZlZIHiti"
      },
      "source": [
        "The previous algorithm has an exponential time complexity of $O(2^n)$ due to the recursive exploration of all possible game states. To optimize it to polynomial time, we can employ *memoization*. This technique involves storing the results of calculated states, avoiding redundant computations.\n",
        "\n",
        "Here's the pseudocode for the memoized algorithm:\n",
        "\n",
        "```\n",
        "FUNCTION calculate_score_difference_memo(nums, is_arya_turn, memo):\n",
        "\n",
        "    If the result for the current state is already memoized, return it\n",
        "    IF (nums, is_arya_turn) in memo:\n",
        "        RETURN memo[(nums, is_arya_turn)]\n",
        "\n",
        "    IF nums is empty:\n",
        "        RETURN 0\n",
        "\n",
        "    IF is_arya_turn:\n",
        "        score = max(nums[0] + calculate_score_difference_memo(nums[1:], False, memo),\n",
        "                    nums[-1] + calculate_score_difference_memo(nums[:-1], False, memo))\n",
        "\n",
        "    ELSE:\n",
        "        score = min(-nums[0] + calculate_score_difference_memo(nums[1:], True, memo),\n",
        "                    -nums[-1] + calculate_score_difference_memo(nums[:-1], True, memo))\n",
        "\n",
        "    Memoize the result for the current state\n",
        "    memo[(nums, is_arya_turn)] = score\n",
        "    RETURN score\n",
        "\n",
        "FUNCTION can_arya_win(nums):\n",
        "    Initialize the memoization dictionary\n",
        "    memo = {}\n",
        "    RETURN calculate_score_difference_memo(nums, True, memo) >= 0\n",
        "\n",
        "For each array nums:\n",
        "    can_ayra_wins(nums)\n",
        "```\n",
        "\n",
        "With *memoization*, the time complexity reduces to $O(n^2)$, where $n$ is the number of elements in the input array. This is because each possible game state (defined by the remaining numbers and whose turn it is) is calculated only once and stored in the memo dictionary. Subsequent encounters of the same state result in a direct lookup from the memo, avoiding redundant recursive calls."
      ]
    },
    {
      "cell_type": "markdown",
      "metadata": {
        "id": "SP46723hFgR0"
      },
      "source": [
        "---\n",
        "**e)** Implement the algorithm in Python. Compare your result values with the previous algorithm. Also compare the running times\n",
        "\n",
        "---"
      ]
    },
    {
      "cell_type": "code",
      "execution_count": null,
      "metadata": {
        "colab": {
          "base_uri": "https://localhost:8080/"
        },
        "id": "tfRpuShgrTK9",
        "outputId": "5782a1ba-81d5-492a-f52c-2afc64a997ee"
      },
      "outputs": [
        {
          "name": "stdout",
          "output_type": "stream",
          "text": [
            "Array: [1, 5, 2] --> Can Arya win? False\n",
            "Array: [1, 5, 233, 7] --> Can Arya win? True\n",
            "Array: [1, 5, 233, 7, 34, 5, 320, 6] --> Can Arya win? True\n",
            "Array: [1, 5, 233, 7, 2, 3, 120, 320, 9] --> Can Arya win? False\n"
          ]
        }
      ],
      "source": [
        "def calculate_score_difference_with_memoization(nums, is_arya_turn, memo=None):\n",
        "    \"\"\"\n",
        "    Calculates the optimal score difference that Arya can achieve,\n",
        "    assuming both players play optimally.\n",
        "\n",
        "    Args:\n",
        "        nums: The sequence of numbers.\n",
        "        is_arya_turn: True if it's Arya's turn, False if it's Mario's turn.\n",
        "        memo: A dictionary to store the results of the subproblems.\n",
        "\n",
        "    Returns:\n",
        "        The optimal score difference that Arya can achieve.\n",
        "    \"\"\"\n",
        "\n",
        "    if memo is None:\n",
        "        memo = {}  # Initialize the memoization dictionary\n",
        "\n",
        "    # If the result for the current state is already memoized, return it\n",
        "    if (tuple(nums), is_arya_turn) in memo:\n",
        "        return memo[(tuple(nums), is_arya_turn)]\n",
        "\n",
        "    # Base case: no numbers left, score difference is zero\n",
        "    if not nums:\n",
        "        return 0\n",
        "\n",
        "    if is_arya_turn:\n",
        "        # Arya's turn: maximize score difference by taking the number...\n",
        "        # ... that yields the highest score difference after Mario's optimal move\n",
        "        score = max(\n",
        "            nums[0] + calculate_score_difference_with_memoization(nums[1:], False, memo),\n",
        "            nums[-1] + calculate_score_difference_with_memoization(nums[:-1], False, memo)\n",
        "        )\n",
        "    else:\n",
        "        # Mario's turn: minimize Arya's score difference by taking the number...\n",
        "        # ... that yields the lowest score difference after Arya's optimal move\n",
        "        score = min(\n",
        "            -nums[0] + calculate_score_difference_with_memoization(nums[1:], True, memo),\n",
        "            -nums[-1] + calculate_score_difference_with_memoization(nums[:-1], True, memo)\n",
        "        )\n",
        "\n",
        "    # Memoize the result for the current state\n",
        "    memo[(tuple(nums), is_arya_turn)] = score\n",
        "    return score\n",
        "\n",
        "def can_arya_win_with_memoization(nums):\n",
        "    \"\"\"\n",
        "    Determines if Arya can win the game.\n",
        "\n",
        "    Args:\n",
        "    nums: The sequence of numbers.\n",
        "\n",
        "    Returns:\n",
        "    True if Arya can win, False otherwise.\n",
        "    \"\"\"\n",
        "\n",
        "    # Arya wins if the optimal score difference is non-negative\n",
        "    return calculate_score_difference_with_memoization(nums, True) >= 0\n",
        "\n",
        "# Test cases\n",
        "test_cases = [\n",
        "  [1, 5, 2],\n",
        "  [1, 5, 233, 7],\n",
        "  [1, 5, 233, 7, 34, 5, 320, 6],\n",
        "  [1, 5, 233, 7, 2, 3, 120, 320, 9]\n",
        "]\n",
        "\n",
        "# Print the results\n",
        "for nums in test_cases:\n",
        "  result = can_arya_win_with_memoization(nums)\n",
        "  print(f'Array: {nums} --> Can Arya win? {result}')"
      ]
    },
    {
      "cell_type": "markdown",
      "metadata": {
        "id": "MDdDb6l620W2"
      },
      "source": [
        "Below we compare the execution times of the two versions of code (without and with memoization) on two arrays, one short (4 elements) and the other long (22 elements).\n",
        "\n",
        "We can note that:\n",
        "* on short arrays, with memoization the management of the *memo dictionary* negates the benefit of avoiding redundant calculations;\n",
        "* on long arrays, memoization significantly reduces execution times.\n"
      ]
    },
    {
      "cell_type": "code",
      "execution_count": null,
      "metadata": {
        "colab": {
          "base_uri": "https://localhost:8080/"
        },
        "id": "yiw-AsK8yfkK",
        "outputId": "9453f5c8-4a7f-4643-d905-191f80261a52"
      },
      "outputs": [
        {
          "name": "stdout",
          "output_type": "stream",
          "text": [
            "Array: [1, 5, 233, 7]\n",
            "  Can Arya win? True (without memoization)\n",
            "  Execution time (no memo): 0.000029 seconds\n",
            "  Can Arya win? True (with memoization)\n",
            "  Execution time (memo): 0.000032 seconds\n",
            "Array: [1, 5, 233, 7, 2, 3, 120, 320, 9, 18, 45, 98, 45, 333, 42, 99, 1000, 23, 4503, 999, 856, 10]\n",
            "  Can Arya win? True (without memoization)\n",
            "  Execution time (no memo): 3.670313 seconds\n",
            "  Can Arya win? True (with memoization)\n",
            "  Execution time (memo): 0.000525 seconds\n"
          ]
        }
      ],
      "source": [
        "import time\n",
        "\n",
        "# Test cases\n",
        "test_cases = [\n",
        "    [1, 5, 233, 7],\n",
        "    [1, 5, 233, 7, 2, 3, 120, 320, 9, 18, 45, 98, 45, 333, 42, 99, 1000, 23, 4503, 999, 856, 10]\n",
        "]\n",
        "\n",
        "for nums in test_cases:\n",
        "    # Time the execution without memoization\n",
        "    start_time = time.time()\n",
        "    result_no_memo = can_arya_win(nums)\n",
        "    end_time = time.time()\n",
        "    time_no_memo = end_time - start_time\n",
        "\n",
        "    # Time the execution with memoization\n",
        "    start_time = time.time()\n",
        "    result_memo = can_arya_win_with_memoization(nums)\n",
        "    end_time = time.time()\n",
        "    time_memo = end_time - start_time\n",
        "\n",
        "    print(f'Array: {nums}')\n",
        "    print(f'  Can Arya win? {result_no_memo} (without memoization)')\n",
        "    print(f'  Execution time (no memo): {time_no_memo:.6f} seconds')\n",
        "    print(f'  Can Arya win? {result_memo} (with memoization)')\n",
        "    print(f'  Execution time (memo): {time_memo:.6f} seconds')"
      ]
    },
    {
      "cell_type": "markdown",
      "metadata": {
        "id": "4GuZ083cFmvU"
      },
      "source": [
        "---\n",
        "**f)** Finally, consult LLM (ChatGPT, Claude AI, Gemini, Perplexity, etc.) to craft a third, optimized implementation and analyze its time complexity. Also, explain if the LLM is doing a good job and how you can evaluate whether the suggested solution works properly\n",
        "\n",
        "---"
      ]
    },
    {
      "cell_type": "markdown",
      "metadata": {
        "id": "mXE9VOfVJPaC"
      },
      "source": [
        "We asked *Claude AI* to write an optimized program implementing Ayra's game strategy.\n",
        "\n",
        "**Key Strategy Components**\n",
        "1. **Dynamic Programming Approach**: 2D table $dp$ where $dp[i][j]$ represents the maximum score difference between Arya and Mario for the subarray $nums[i:j+1]$. The score difference is calculated as (Arya's score - Mario's score)\n",
        "2. **Winning Condition**: If $dp[0][n-1]$ is non-negative (>= 0), Arya guarantees at least a tie, which means a win for her.\n",
        "3. **Recursive Strategy**: At each step, a player chooses either the left or right end of the remaining sequence. The choice maximizes the score difference in their favor.\n",
        "\n",
        "**Evaluation**:\n",
        "\n",
        "1. **Correctness**: The algorithm correctly implements the dynamic programming approach to solve this problem. It considers all possible choices for Arya and Mario and optimizes for the maximum score difference.\n",
        "2. **Efficiency**: The time complexity is $O(n^2)$ due to the nested loops to fill the $dp$ array. The space complexity is also $O(n^2)$ to store the $dp$ array.\n",
        "3. **Clarity**: The code is well-structured and includes comments explaining the logic. The variable names are meaningful, and the use of dynamic programming is clear.\n",
        "\n"
      ]
    },
    {
      "cell_type": "code",
      "execution_count": null,
      "metadata": {
        "colab": {
          "base_uri": "https://localhost:8080/"
        },
        "id": "eu4d212MJStU",
        "outputId": "97d36eef-0f1d-4b67-f9fc-9996a53efd8a"
      },
      "outputs": [
        {
          "name": "stdout",
          "output_type": "stream",
          "text": [
            "Test Case 1: False\n",
            "Test Case 2: True\n"
          ]
        }
      ],
      "source": [
        "class PredictWinner:\n",
        "    def predict_the_winner(self, nums):\n",
        "        \"\"\"\n",
        "        Determine if Arya can guarantee a win with optimal play.\n",
        "\n",
        "        Args:\n",
        "            nums (List[int]): The sequence of numbers to play with\n",
        "\n",
        "        Returns:\n",
        "            bool: True if Arya can guarantee a win, False otherwise\n",
        "        \"\"\"\n",
        "        n = len(nums)\n",
        "        # Create a 2D DP table to store maximum score differences\n",
        "        # dp[i][j] represents the maximum score difference\n",
        "        # (Arya's score - Mario's score) for the subarray nums[i:j+1]\n",
        "        dp = [[0] * n for _ in range(n)]\n",
        "\n",
        "        # Initialize base case: single number subarrays\n",
        "        for i in range(n):\n",
        "            dp[i][i] = nums[i]\n",
        "\n",
        "        # Build the DP table diagonally\n",
        "        # Increasing subarray length from 2 to n\n",
        "        for length in range(2, n + 1):\n",
        "            for i in range(n - length + 1):\n",
        "                j = i + length - 1\n",
        "\n",
        "                # Score difference when choosing left end\n",
        "                left_choice = nums[i] - dp[i+1][j]\n",
        "\n",
        "                # Score difference when choosing right end\n",
        "                right_choice = nums[j] - dp[i][j-1]\n",
        "\n",
        "                # Take the maximum possible score difference\n",
        "                dp[i][j] = max(left_choice, right_choice)\n",
        "\n",
        "        # If the final score difference is >= 0, Arya wins (or ties)\n",
        "        return dp[0][n-1] >= 0\n",
        "\n",
        "def test_prediction_strategy():\n",
        "    \"\"\"\n",
        "    Test cases to validate the prediction strategy\n",
        "    \"\"\"\n",
        "    solution = PredictWinner()\n",
        "\n",
        "    # Test case 1: Arya can guarantee a win\n",
        "    print(\"Test Case 1:\", solution.predict_the_winner([1, 5, 2]) == True)\n",
        "\n",
        "    # Test case 2: Balanced case where Arya wins\n",
        "    print(\"Test Case 2:\", solution.predict_the_winner([1, 5, 233, 7]) == True)\n",
        "\n",
        "# Run the test cases\n",
        "test_prediction_strategy()"
      ]
    }
  ],
  "metadata": {
    "colab": {
      "toc_visible": true,
      "provenance": [],
      "mount_file_id": "1CeEylpJTfzykrRGMmzp3gDZLigQ2Bu-X",
      "authorship_tag": "ABX9TyMDlocifydY1PzKE7m6YsqC"
    },
    "kernelspec": {
      "display_name": "Python 3",
      "name": "python3"
    },
    "language_info": {
      "name": "python"
    }
  },
  "nbformat": 4,
  "nbformat_minor": 0
}